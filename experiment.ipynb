{
 "cells": [
  {
   "cell_type": "code",
   "execution_count": 1,
   "id": "b3cdd576-4a88-4c9b-ae7b-e47affd0d52b",
   "metadata": {},
   "outputs": [],
   "source": [
    "import torch\n",
    "import torch.nn as nn\n",
    "from encoder import EncoderTransformer\n",
    "import matplotlib.pyplot as plt"
   ]
  },
  {
   "cell_type": "code",
   "execution_count": 2,
   "id": "ef64a368-887d-4c66-956b-7935ed5f6cb1",
   "metadata": {},
   "outputs": [],
   "source": [
    "# generate artifical token IDs sequences\n",
    "batch_size = 16\n",
    "vocabulary_size = 50\n",
    "max_sequence_length = 30\n",
    "\n",
    "source = torch.randint(0, vocabulary_size, (batch_size, max_sequence_length))\n",
    "target = torch.randint(0, vocabulary_size, (batch_size, max_sequence_length))"
   ]
  },
  {
   "cell_type": "code",
   "execution_count": 3,
   "id": "de3aed37-7c64-4765-ac2b-052b6aec26e6",
   "metadata": {},
   "outputs": [],
   "source": [
    "# define a tiny transformer encoder model\n",
    "num_heads = 2\n",
    "layer_encoder = 2\n",
    "embedding_dim = 128\n",
    "mlp_dim = 128\n",
    "output_dim = 128\n",
    "\n",
    "transformer = EncoderTransformer(max_sequence_length, layer_encoder, num_heads, \n",
    "                                 embedding_dim, mlp_dim, output_dim, vocabulary_size)"
   ]
  },
  {
   "cell_type": "code",
   "execution_count": 4,
   "id": "942e53f5-dd38-4ea6-9c75-6b6943634916",
   "metadata": {},
   "outputs": [
    {
     "name": "stdout",
     "output_type": "stream",
     "text": [
      "Predicted output sequence: \n",
      " tensor([[16, 48, 40, 38, 23, 16, 11,  1, 27, 47, 29, 43,  3, 28, 25, 42,  5, 16,\n",
      "          9, 11, 44, 25, 37, 19, 42, 45, 34, 27, 15, 14]])\n",
      "Target sequence: \n",
      " tensor([[43, 13,  0, 14, 10, 38, 49, 20, 24, 14, 23, 15,  6, 38, 48,  6,  3, 33,\n",
      "         17, 48, 46, 31, 38,  0,  0, 33, 30, 26,  5, 15]])\n"
     ]
    }
   ],
   "source": [
    "# example of model output before training\n",
    "input_sequence = source[0, None]\n",
    "output_probs = transformer(input_sequence)\n",
    "output_sequence = torch.argmax(output_probs, dim=-1)\n",
    "print(\"Predicted output sequence: \\n\", output_sequence)\n",
    "print(\"Target sequence: \\n\", target[0, None])"
   ]
  },
  {
   "cell_type": "code",
   "execution_count": 5,
   "id": "8435d1a6-178a-49dd-98f2-f1bf4014de6a",
   "metadata": {},
   "outputs": [],
   "source": [
    "# define cross-entropy loss and Adam optimiser\n",
    "criterion = nn.CrossEntropyLoss()\n",
    "optimiser = torch.optim.Adam(transformer.parameters(), lr=3e-4)"
   ]
  },
  {
   "cell_type": "code",
   "execution_count": 6,
   "id": "25ed91e5-e23a-482b-b743-ca973b7170c6",
   "metadata": {},
   "outputs": [],
   "source": [
    "# training loop\n",
    "num_epochs = 500\n",
    "history = {\"epoch\": [], \"loss\": [], \"accuracy\": []}\n",
    "for epoch in range(num_epochs):\n",
    "    optimiser.zero_grad()\n",
    "    output = transformer(source)\n",
    "    output = output.view(-1, vocabulary_size)\n",
    "    loss = criterion(output, target.view(-1))\n",
    "    loss.backward()\n",
    "    optimiser.step()\n",
    "    # evaluate performance on the batch\n",
    "    with torch.no_grad():\n",
    "        history[\"epoch\"].append(epoch)\n",
    "        history[\"loss\"].append(loss.item())\n",
    "        history[\"accuracy\"].append((torch.argmax(output, dim=-1) == target.view(-1)).float().mean())"
   ]
  },
  {
   "cell_type": "code",
   "execution_count": 7,
   "id": "4ab76a6f-818c-4960-9163-0dbdd76b4711",
   "metadata": {},
   "outputs": [
    {
     "data": {
      "image/png": "[encoded data removed]",
      "text/plain": [
       "<Figure size 600x200 with 2 Axes>"
      ]
     },
     "metadata": {},
     "output_type": "display_data"
    }
   ],
   "source": [
    "fig, (ax1, ax2) = plt.subplots(1, 2, figsize=(6, 2))\n",
    "ax1.plot(history[\"epoch\"], history[\"loss\"], c=\"C0\")\n",
    "ax2.plot(history[\"epoch\"], history[\"accuracy\"], c=\"C1\")\n",
    "ax1.set_xlabel(\"Epoch\")\n",
    "ax1.set_title(\"Cross-entropy loss\")\n",
    "ax2.set_xlabel(\"Epoch\")\n",
    "ax2.set_title(\"Accuracy\")\n",
    "plt.show()"
   ]
  },
  {
   "cell_type": "code",
   "execution_count": 8,
   "id": "4280f211-59e0-4ab8-9a39-bdb4f22eb9c3",
   "metadata": {},
   "outputs": [
    {
     "name": "stdout",
     "output_type": "stream",
     "text": [
      "Predicted output sequence: \n",
      " tensor([[43, 13,  1, 14, 10, 38, 49, 20, 24, 16, 23, 15,  6, 28, 39,  1,  3, 12,\n",
      "         17, 48, 46, 31, 47,  0,  9, 33, 30, 26,  5, 29]])\n",
      "Target sequence: \n",
      " tensor([[43, 13,  0, 14, 10, 38, 49, 20, 24, 14, 23, 15,  6, 38, 48,  6,  3, 33,\n",
      "         17, 48, 46, 31, 38,  0,  0, 33, 30, 26,  5, 15]])\n"
     ]
    }
   ],
   "source": [
    "# example of model output after training\n",
    "input_sequence = source[0, None]\n",
    "output_probs = transformer(input_sequence)\n",
    "output_sequence = torch.argmax(output_probs, dim=-1)\n",
    "print(\"Predicted output sequence: \\n\", output_sequence)\n",
    "print(\"Target sequence: \\n\", target[0, None])"
   ]
  },
  {
   "cell_type": "code",
   "execution_count": null,
   "id": "3564920f-348b-4285-b466-2b056362ba77",
   "metadata": {},
   "outputs": [],
   "source": []
  }
 ],
 "metadata": {
  "kernelspec": {
   "display_name": "Python 3 (ipykernel)",
   "language": "python",
   "name": "python3"
  },
  "language_info": {
   "codemirror_mode": {
    "name": "ipython",
    "version": 3
   },
   "file_extension": ".py",
   "mimetype": "text/x-python",
   "name": "python",
   "nbconvert_exporter": "python",
   "pygments_lexer": "ipython3",
   "version": "3.11.6"
  }
 },
 "nbformat": 4,
 "nbformat_minor": 5
}
